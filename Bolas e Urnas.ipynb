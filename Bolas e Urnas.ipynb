{
 "cells": [
  {
   "cell_type": "code",
   "execution_count": 92,
   "metadata": {
    "collapsed": true
   },
   "outputs": [],
   "source": [
    "import numpy as np\n",
    "import random\n",
    "import math\n",
    "from scipy.stats import nbinom\n",
    "import matplotlib.pyplot as plt"
   ]
  },
  {
   "cell_type": "markdown",
   "metadata": {},
   "source": [
    "### Introdução\n",
    "\n",
    "Considere uma urna com t bolas, sendo g verdes e r vermelhas, com g + r = t. Quando uma\n",
    "bola é retirada com reposição, significa que esta bola volta para a urna antes da próxima ser\n",
    "retirada. Quando uma bola é retirada sem reposição, significa que esta bola não volta para\n",
    "a urna antes da próxima ser retirada.  \n",
    "Sejam os seguintes experimentos probabilísticos, em que n e k são parâmetros dos experimentos.\n",
    "\n",
    "* Experimento 1a. Retira-se, uma por uma, um total de n bolas da urna, com reposição.\n",
    "* Experimento 1b. Retira-se, uma por uma, um total de n bolas da urna, sem reposição.\n",
    "* Experimento 2a. Retira-se, uma por uma, bolas da urna, com reposição. O experimento\n",
    "se encerra imediatamente após a k-ésima bola verde é retirada.\n",
    "* Experimento 2b. Retira-se, uma por uma, bolas da urna, sem reposição. O experimento se encerra imediatamente após a k-ésima bola verde é retirada\n",
    "\n",
    "Defina as seguintes variáveis aleatórias:  \n",
    "* Experimentos 1a e 1b. K = número de bolas verdes retiradas no experimento.\n",
    "* Experimentos 2a e 2b. N = número total de bolas retiradas no experimento.  \n",
    "Tais variáveis aleatórias estão relacionadas com as seguintes distribuições discretas:\n",
    "* Experimentos 1a. Distribuição binomial.\n",
    "* Experimentos 1b. Distribuição hipergeométrica.\n",
    "* Experimentos 2a. Distribuição binomial negativa (ou de Pascal).\n",
    "* Experimentos 2b. Distribuição hipergeométrica negativa."
   ]
  },
  {
   "cell_type": "markdown",
   "metadata": {},
   "source": [
    "1 - Escreva uma função que implementa uma única realização da variável aleatória K do Experimento 1a, para (t, g, n) genéricos. Em seguida, utilize as funções escritas com (t, g, n) = (8, 4, 6) e com (t, g, n) = (100, 20, 95).  \n",
    "* Plote figuras contendo a função massa de probabilidade teórica, bem como aquela obtida via simulação de Monte Carlo.\n",
    "* Calcule os valores teóricos da média e da variância, bem como aqueles obtidos via simulação.\n",
    "\n",
    "Dados:\n",
    "\n",
    "n = numero de bolas retiradas da urna  \n",
    "t = número de bolas  \n",
    "g = bolas verdes  \n",
    "r = bolas vermelhas  \n",
    "t = g+r  \n",
    "k = possivel resultado da variavel aleatoria  \n",
    "K = número de bolas verdes retiradas no experimento.\n",
    "\n",
    "$$p=\\frac{g}{t} \\quad q=\\frac{r}{t} \\qquad \\binom{n}{k} = \\frac{n!}{k!(n-k)!}$$  \n",
    "\n",
    "PMF 1a -  $$p_K(k)=\\binom{n}{k}p^kq^{n-k}$$\n",
    "\n",
    "PMF 1b -  $$p_K(k)=\\frac{\\binom{g}{k}}{\\binom{t}{n}}\\binom{r}{l}$$\n"
   ]
  },
  {
   "cell_type": "markdown",
   "metadata": {},
   "source": [
    "## Formulas"
   ]
  },
  {
   "cell_type": "code",
   "execution_count": 136,
   "metadata": {
    "collapsed": true
   },
   "outputs": [],
   "source": [
    "def coef_binon(n,k):\n",
    "  \n",
    "    if k > n:\n",
    "        return 0\n",
    "    return math.factorial(n)/(math.factorial(k)*math.factorial(n-k))\n",
    "\n",
    "def prob(g,t): \n",
    "    return float(g)/t\n",
    "\n",
    "def prob_pra(vet): \n",
    "    count = 0\n",
    "    for i in vet:\n",
    "        if vet[i] > 0:\n",
    "            count += 1\n",
    "    return count/len(vet)        \n",
    "        \n",
    "        \n",
    "\n",
    "\n",
    "def pmf_1a(p,n,k):\n",
    "    pmf = coef_binon(n,k)*(p**k)*(1-p)**(n-k)\n",
    "    return pmf\n",
    "\n",
    "def pmf_1b(g,r,t,n,k):\n",
    "    l = n-k\n",
    "  \n",
    "    pmf = (coef_binon(g,k)/coef_binon(t,n))*coef_binon(r,l)\n",
    "    return pmf\n",
    "\n",
    "def media_1(n,p):\n",
    "    return n*p\n",
    "\n",
    "def var_1a(n,p,q):\n",
    "    return n*p*q\n",
    "\n",
    "def var_1b(n,p,q,t):\n",
    "    return (n*p*q)*(t-n/t-1)\n",
    "\n",
    "def exp_1a(t,g,n):\n",
    "     p = prob(g,t)\n",
    "     \n",
    "     i = 0\n",
    "     outcomes = []\n",
    "     while i < n:\n",
    "            a = random.uniform(0, 1)\n",
    "            outcomes.append(a <= p)\n",
    "            i += 1       \n",
    "     return np.sum(outcomes)\n",
    "\n",
    "def exp_1b(t,g,n):\n",
    "     i = 0\n",
    "     outcomes = []\n",
    "     while i < n:\n",
    "            a = random.uniform(0, 1)\n",
    "            p = prob(g,t)\n",
    "            outcomes.append(a <= p)\n",
    "            t -= 1\n",
    "            i += 1       \n",
    "     return np.sum(outcomes)\n",
    "            \n",
    "     \n",
    "        \n",
    "    \n"
   ]
  },
  {
   "cell_type": "code",
   "execution_count": 132,
   "metadata": {},
   "outputs": [
    {
     "data": {
      "image/png": "[encoded data removed]",
      "text/plain": [
       "<matplotlib.figure.Figure at 0x7f63b76b2438>"
      ]
     },
     "metadata": {},
     "output_type": "display_data"
    },
    {
     "name": "stdout",
     "output_type": "stream",
     "text": [
      "---Valores teoricos---\n",
      "Media: 3.0 Variancia: 1.5\n"
     ]
    },
    {
     "data": {
      "image/png": "[encoded data removed]",
      "text/plain": [
       "<matplotlib.figure.Figure at 0x7f63b7619f28>"
      ]
     },
     "metadata": {},
     "output_type": "display_data"
    },
    {
     "name": "stdout",
     "output_type": "stream",
     "text": [
      "---Valores Monte Carlo---\n",
      "Media: 2.988 Variancia: 1.501856\n"
     ]
    }
   ],
   "source": [
    "#Teorico\n",
    "t, g, n = 8, 4, 6\n",
    "pmf_vet_t = []\n",
    "p = prob(g,t)\n",
    "\n",
    "for i in range(n+1):\n",
    "    pmf_vet_t.append(pmf_1a(p,n,i))\n",
    "    \n",
    "plt.bar(range(n+1),pmf_vet_t)\n",
    "plt.grid()\n",
    "plt.title('PMF - Teorica')\n",
    "plt.show()\n",
    "media_t = media_1(n,p)\n",
    "var_t = var_1a(n,p,1-p)\n",
    "print(\"---Valores teoricos---\")\n",
    "print(\"Media: {} Variancia: {}\".format(media_t,var_t))\n",
    "\n",
    "#Monte Carlo\n",
    "mc=1000\n",
    "pmf_vet_p = []\n",
    "for i in range(mc):\n",
    "    pmf_vet_p.append(exp_1a(t, g, n))\n",
    "\n",
    "plt.hist(pmf_vet_p)\n",
    "plt.title('PMF - Monte Carlo')\n",
    "plt.grid()\n",
    "plt.show()\n",
    "\n",
    "\n",
    "print(\"---Valores Monte Carlo---\")\n",
    "print(\"Media: {} Variancia: {}\".format(np.mean(pmf_vet_p),np.var(pmf_vet_p)))"
   ]
  },
  {
   "cell_type": "markdown",
   "metadata": {
    "collapsed": true
   },
   "source": [
    "### Para  (t, g, n) = (100, 20, 95)"
   ]
  },
  {
   "cell_type": "code",
   "execution_count": 134,
   "metadata": {},
   "outputs": [
    {
     "name": "stdout",
     "output_type": "stream",
     "text": [
      "Qutd. de bolas verdes retiradas: 16\n"
     ]
    },
    {
     "data": {
      "image/png": "[encoded data removed]",
      "text/plain": [
       "<matplotlib.figure.Figure at 0x7f63b782af60>"
      ]
     },
     "metadata": {},
     "output_type": "display_data"
    },
    {
     "name": "stdout",
     "output_type": "stream",
     "text": [
      "---Valores teoricos---\n",
      "Media: 19.0 Variancia: 15.200000000000001\n"
     ]
    },
    {
     "data": {
      "image/png": "[encoded data removed]",
      "text/plain": [
       "<matplotlib.figure.Figure at 0x7f63b7a0aa58>"
      ]
     },
     "metadata": {},
     "output_type": "display_data"
    },
    {
     "name": "stdout",
     "output_type": "stream",
     "text": [
      "---Valores Monte Carlo---\n",
      "Media: 19.9521 Variancia: 15.941005589999998\n"
     ]
    }
   ],
   "source": [
    "#(t, g, n) \n",
    "t, g, n = 100, 20, 95\n",
    "X_b = exp_1a(t, g, n)\n",
    "print(\"Qutd. de bolas verdes retiradas: {}\".format(X_b))\n",
    "pmf_vet = []\n",
    "p = prob(g,t)\n",
    "q = 1-p\n",
    "for i in range(n+1):\n",
    "    pmf_vet.append(pmf_1a(p,n,i))\n",
    " \n",
    "plt.stem(range(n+1),pmf_vet,'-.')\n",
    "plt.title('PMF - Teorica')\n",
    "plt.show()\n",
    "media_t = media_1(n,p)\n",
    "var_t = var_1a(n,p,q)\n",
    "print(\"---Valores teoricos---\")\n",
    "print(\"Media: {} Variancia: {}\".format(media_t,var_t))\n",
    "\n",
    "#Monte Carlo\n",
    "n=1000\n",
    "pmf_vet_p = []\n",
    "for i in range(10000):\n",
    "    pmf_vet_p.append(exp_1a(t, g, t))\n",
    " \n",
    "plt.hist(pmf_vet_p)\n",
    "plt.title('PMF - Monte Carlo')\n",
    "plt.show()\n",
    "print(\"---Valores Monte Carlo---\")\n",
    "print(\"Media: {} Variancia: {}\".format(np.mean(pmf_vet_p),np.var(pmf_vet_p)))"
   ]
  },
  {
   "cell_type": "markdown",
   "metadata": {},
   "source": [
    "## 2 Repita o exercício anterior, agora considerando o Experimento 1b.  \n",
    "\n"
   ]
  },
  {
   "cell_type": "markdown",
   "metadata": {},
   "source": [
    "### Para (t, g, n) = (8, 4, 6) "
   ]
  },
  {
   "cell_type": "code",
   "execution_count": 137,
   "metadata": {},
   "outputs": [
    {
     "name": "stdout",
     "output_type": "stream",
     "text": [
      "Qutd. de bolas verdes retiradas: 5\n"
     ]
    },
    {
     "data": {
      "image/png": "[encoded data removed]",
      "text/plain": [
       "<matplotlib.figure.Figure at 0x7f63b77b42e8>"
      ]
     },
     "metadata": {},
     "output_type": "display_data"
    },
    {
     "name": "stdout",
     "output_type": "stream",
     "text": [
      "---Valores teoricos---\n",
      "Media: 3.0 Variancia: 9.375\n"
     ]
    },
    {
     "data": {
      "image/png": "[encoded data removed]",
      "text/plain": [
       "<matplotlib.figure.Figure at 0x7f63b7948080>"
      ]
     },
     "metadata": {},
     "output_type": "display_data"
    },
    {
     "name": "stdout",
     "output_type": "stream",
     "text": [
      "---Valores Monte Carlo---\n",
      "Media: 500.0 Variancia: -29500.0\n"
     ]
    }
   ],
   "source": [
    "#pmf_1b(g,r,t,n,k)\n",
    "g, r, t, n = 4, 4, 8, 6\n",
    "X_a = exp_1b(t, g, n)\n",
    "print(\"Qutd. de bolas verdes retiradas: {}\".format(X_a))\n",
    "pmf_vet = []\n",
    "p = prob(g,t)\n",
    "q = 1-p\n",
    "for i in range(n+1):\n",
    "    va = pmf_1b(g,r,t,n,i)\n",
    "    if va > 0:\n",
    "        pmf_vet.append(va)\n",
    "    ##print(\"pmf: {}\".format(pmf_vet[i]))\n",
    " \n",
    "plt.stem(range(len(pmf_vet)),pmf_vet,'-.')\n",
    "plt.title('PMF - Teorica')\n",
    "plt.show()\n",
    "media_t = media_1(n,p)\n",
    "var_t = var_1b(n,p,q,t)\n",
    "print(\"---Valores teoricos---\")\n",
    "print(\"Media: {} Variancia: {}\".format(media_t,var_t))\n",
    "\n",
    "#Monte Carlo\n",
    "n=1000\n",
    "pmf_vet = []\n",
    "for i in range(1000):\n",
    "     pmf_vet.append(exp_1b(t, g, t))\n",
    "     \n",
    "    \n",
    "plt.hist(pmf_vet,histtype='bar')\n",
    "plt.title('PMF - Monte Carlo')\n",
    "plt.show()\n",
    "media_t = media_1(n,p)\n",
    "var_t = var_1b(n,p,q,t)\n",
    "print(\"---Valores Monte Carlo---\")\n",
    "print(\"Media: {} Variancia: {}\".format(media_t,var_t))"
   ]
  },
  {
   "cell_type": "markdown",
   "metadata": {},
   "source": [
    "## Para  (t, g, n) = (100, 20, 95)"
   ]
  },
  {
   "cell_type": "code",
   "execution_count": 4,
   "metadata": {},
   "outputs": [
    {
     "name": "stdout",
     "output_type": "stream",
     "text": [
      "Qutd. de bolas verdes retiradas: 48\n"
     ]
    },
    {
     "data": {
      "image/png": "[encoded data removed]",
      "text/plain": [
       "<matplotlib.figure.Figure at 0x7fb3ded21ef0>"
      ]
     },
     "metadata": {},
     "output_type": "display_data"
    },
    {
     "name": "stdout",
     "output_type": "stream",
     "text": [
      "---Valores teoricos---\n",
      "Media: 19.0 Variancia: 1490.3600000000001\n"
     ]
    },
    {
     "data": {
      "image/png": "[encoded data removed]",
      "text/plain": [
       "<matplotlib.figure.Figure at 0x7fb3dece3ba8>"
      ]
     },
     "metadata": {},
     "output_type": "display_data"
    },
    {
     "name": "stdout",
     "output_type": "stream",
     "text": [
      "---Valores Monte Carlo---\n",
      "Media: 200.0 Variancia: 14240.0\n"
     ]
    }
   ],
   "source": [
    "#pmf_1b(g,r,t,n,k)\n",
    "g, r, t, n = 20, 80, 100, 95\n",
    "X_a = exp_1b(t, g, n)\n",
    "print(\"Qutd. de bolas verdes retiradas: {}\".format(X_a))\n",
    "pmf_vet = []\n",
    "p = prob(g,t)\n",
    "q = 1-p\n",
    "i=0\n",
    "for i in range(n+1):\n",
    "    va = pmf_1b(g,r,t,n,i)\n",
    "    if va > 0:\n",
    "        pmf_vet.append(va)\n",
    "    ##print(\"pmf: {}\".format(pmf_vet[i]))\n",
    " \n",
    "plt.stem(range(len(pmf_vet)),pmf_vet,'-.')\n",
    "plt.title('PMF - Teorica')\n",
    "plt.show()\n",
    "media_t = media_1(n,p)\n",
    "var_t = var_1b(n,p,q,t)\n",
    "print(\"---Valores teoricos---\")\n",
    "print(\"Media: {} Variancia: {}\".format(media_t,var_t))\n",
    "\n",
    "#Monte Carlo\n",
    "n=1000\n",
    "pmf_vet = []\n",
    "for i in range(n+1):\n",
    "     pmf_vet.append(exp_1b(t, g, t))\n",
    "     \n",
    "    \n",
    "plt.hist(pmf_vet,histtype='bar')\n",
    "plt.title('PMF - Monte Carlo')\n",
    "plt.show()\n",
    "media_t = media_1(n,p)\n",
    "var_t = var_1b(n,p,q,t)\n",
    "print(\"---Valores Monte Carlo---\")\n",
    "print(\"Media: {} Variancia: {}\".format(media_t,var_t))"
   ]
  },
  {
   "cell_type": "markdown",
   "metadata": {},
   "source": [
    "## Experimento 2 a/b\n",
    "\n",
    "* Experimento 2a. Retira-se, uma por uma, bolas da urna, com reposição. O experimento\n",
    "se encerra imediatamente após a k-ésima bola verde é retirada.\n",
    "* Experimento 2b. Retira-se, uma por uma, bolas da urna, sem reposição. O experimento se encerra imediatamente após a k-ésima bola verde é retirada  \n",
    "\n",
    "VA's: \n",
    "* Experimentos 2a e 2b. N = número total de bolas retiradas no experimento.  \n",
    "\n",
    "PMF's:\n",
    "* Experimentos 2a. Distribuição binomial negativa (ou de Pascal).\n",
    "* Experimentos 2b. Distribuição hipergeométrica negativa.\n",
    "\n",
    "**Formulas:**\n",
    "\n",
    "$$p=\\frac{g}{t} \\quad q=\\frac{r}{t} \\qquad \\binom{n}{k} = \\frac{n!}{k!(n-k)!}$$  \n",
    "\n",
    "PMF 2a -  $$p_K(k)=\\binom{n-1}{k-1}p^kq^{n-k}$$\n",
    "\n",
    "PMF 2b -  $$p_K(k)=\\frac{\\binom{g}{k-1}}{\\binom{t}{n-1}}\\frac{g-k+1}{t-n+1}\\binom{r}{l}$$\n",
    "\n",
    "Media 2a - $$E[N]=\\frac{k}{p}$$\n",
    "\n",
    "Media 2b - $$E[N]=k\\frac{t+1}{g+1}$$\n",
    "\n",
    "Variância 2a - $$var[N]=k\\frac{q}{p^2}$$ \n",
    "\n",
    "Variância 2b - $$var[N]=k\\frac{(t-g)(t+1)(g+1-k)}{(g+1)^2(g+2)}$$ \n"
   ]
  },
  {
   "cell_type": "code",
   "execution_count": 118,
   "metadata": {
    "collapsed": true
   },
   "outputs": [],
   "source": [
    "def pmf_2a(n,k,p):\n",
    "    q = 1-p\n",
    "    return coef_binon(n-1,k-1)*(p**k)*(1-p)**(n-k)\n",
    "\n",
    "def pmf_2b(t,g,n,k):\n",
    "    return (coef_binon(g,k-1)/coef_binon(t,n-1))*((g-k+1)/(t-n+1))*coef_binon(t-n,n-k)\n",
    "\n",
    "def media_2a(p,k):\n",
    "    return k/p\n",
    "\n",
    "def media_2b(t,g,k):\n",
    "    return k*(t+1/g+1)\n",
    "\n",
    "def var_2a(p,k):\n",
    "    q = 1-p\n",
    "    return k*(q/p**2)\n",
    "\n",
    "def var_2b(t,g,k):\n",
    "    return k*(((t-g)*(t+1)*(g+1-k))/(((g+1)**2)*(g+2)))\n",
    "\n",
    "def exp_2a(t,g,k):\n",
    "     p = prob(g,t)\n",
    "     i = 1\n",
    "     while i <= k:\n",
    "            a = random.uniform(0, 1)\n",
    "            #print(\"a: {}, p: {}\".format(a,p))\n",
    "            #print(a <= p)\n",
    "            if a <= p:\n",
    "                return i\n",
    "            i += 1       \n",
    "     return 0\n",
    "\n",
    "def exp_2b(t,g,k):\n",
    "     p = prob(g,t)\n",
    "     i = 1\n",
    "     while i <= k:\n",
    "            a = random.uniform(0, 1)\n",
    "            #print(\"a: {}, p: {}\".format(a,p))\n",
    "            #print(a <= p)\n",
    "            if a <= p:\n",
    "                return i\n",
    "            i += 1\n",
    "            g -= 1\n",
    "            p = g/t\n",
    "     return 0\n",
    "            \n",
    "\n",
    "    \n",
    "    \n",
    "    \n"
   ]
  },
  {
   "cell_type": "markdown",
   "metadata": {},
   "source": [
    "3 - Escreva uma função que implementa uma única realização da variável aleatória N do\n",
    "Experimento 2a, para (t, g, k) genéricos. Em seguida, utilize as funções escritas com\n",
    "(t, g, k) = (8, 6, 4) e com (t, g, k) = (100, 20, 20).\n",
    "\n",
    "* Plote figuras contendo a função massa de probabilidade teórica, bem como aquela\n",
    "obtida via simulação de Monte Carlo.\n",
    "* Calcule os valores teóricos da média e da variância, bem como aqueles obtidos via\n",
    "simulação.\n"
   ]
  },
  {
   "cell_type": "markdown",
   "metadata": {},
   "source": [
    "### Para (t, g, k) = (8, 6, 4) "
   ]
  },
  {
   "cell_type": "code",
   "execution_count": 128,
   "metadata": {},
   "outputs": [
    {
     "data": {
      "image/png": "[encoded data removed]",
      "text/plain": [
       "<matplotlib.figure.Figure at 0x7f63b668b518>"
      ]
     },
     "metadata": {},
     "output_type": "display_data"
    },
    {
     "name": "stdout",
     "output_type": "stream",
     "text": [
      "---Valores Praticos ---\n",
      "Media: 1.33729 Variancia: 1.7736054558999998\n"
     ]
    },
    {
     "data": {
      "image/png": "[encoded data removed]",
      "text/plain": [
       "<matplotlib.figure.Figure at 0x7f63b79eef28>"
      ]
     },
     "metadata": {},
     "output_type": "display_data"
    },
    {
     "name": "stdout",
     "output_type": "stream",
     "text": [
      "---Valores Teoricos ---\n",
      "Media: 5.33 Variancia: 1.78\n"
     ]
    }
   ],
   "source": [
    "t, g, k = 8, 6, 4 \n",
    "p = prob(g,t)\n",
    "\n",
    "#Monte Carlo\n",
    "r = nbinom.rvs(k, p, size=100000)\n",
    "plt.hist(r)\n",
    "plt.show()\n",
    "print(\"---Valores Praticos ---\")\n",
    "print(\"Media: {} Variancia: {}\".format(np.mean(r),np.var(r)))\n",
    "\n",
    "#Teorica\n",
    "y=nbinom.pmf(range(k),k,p)\n",
    "plt.bar(range(k),y) \n",
    "plt.title('Teorica')\n",
    "plt.show()\n",
    "media_t = round(media_2a(p,k),2)\n",
    "vari = round(var_2a(p,k),2)\n",
    "print(\"---Valores Teoricos ---\")\n",
    "print(\"Media: {} Variancia: {}\".format(media_t,vari))\n",
    "\n"
   ]
  },
  {
   "cell_type": "markdown",
   "metadata": {
    "collapsed": true
   },
   "source": [
    "### Para (t, g, k) = (100, 20, 20) "
   ]
  },
  {
   "cell_type": "code",
   "execution_count": 127,
   "metadata": {},
   "outputs": [
    {
     "data": {
      "image/png": "[encoded data removed]",
      "text/plain": [
       "<matplotlib.figure.Figure at 0x7f63b78f6908>"
      ]
     },
     "metadata": {},
     "output_type": "display_data"
    },
    {
     "name": "stdout",
     "output_type": "stream",
     "text": [
      "---Valores Praticos ---\n",
      "Media: 80.005812 Variancia: 400.34121622065607\n"
     ]
    },
    {
     "data": {
      "image/png": "[encoded data removed]",
      "text/plain": [
       "<matplotlib.figure.Figure at 0x7f63b77e1748>"
      ]
     },
     "metadata": {},
     "output_type": "display_data"
    },
    {
     "name": "stdout",
     "output_type": "stream",
     "text": [
      "---Valores Teoricos ---\n",
      "Media: 100.0 Variancia: 400.0\n",
      "2.16918931158e-05\n"
     ]
    }
   ],
   "source": [
    "t, g, k = 100, 20, 20\n",
    "p = prob(g,t)\n",
    "\n",
    "#Monte Carlo\n",
    "r = nbinom.rvs(k, p, size=1000000)\n",
    "plt.hist(r)\n",
    "plt.show()\n",
    "print(\"---Valores Praticos ---\")\n",
    "print(\"Media: {} Variancia: {}\".format(np.mean(r),np.var(r)))\n",
    "\n",
    "#Teorica\n",
    "y=nbinom.pmf(range(1,k+1),k,p)\n",
    "plt.bar(range(1,k+1),y) \n",
    "plt.title('Teorica')\n",
    "plt.show()\n",
    "\n",
    "media_t = round(media_2a(p,k),2)\n",
    "vari = round(var_2a(p,k),2)\n",
    "print(\"---Valores Teoricos ---\")\n",
    "print(\"Media: {} Variancia: {}\".format(media_t,vari))\n",
    "print(np.sum(y))"
   ]
  },
  {
   "cell_type": "markdown",
   "metadata": {},
   "source": [
    "### Experimento 2b"
   ]
  },
  {
   "cell_type": "code",
   "execution_count": 120,
   "metadata": {},
   "outputs": [
    {
     "data": {
      "image/png": "[encoded data removed]",
      "text/plain": [
       "<matplotlib.figure.Figure at 0x7f63b7600f98>"
      ]
     },
     "metadata": {},
     "output_type": "display_data"
    },
    {
     "name": "stdout",
     "output_type": "stream",
     "text": [
      "---Valores Praticos ---\n",
      "Media: 1.2815 Variancia: 0.46965774999999993\n"
     ]
    },
    {
     "data": {
      "image/png": "[encoded data removed]",
      "text/plain": [
       "<matplotlib.figure.Figure at 0x7f63b7505b70>"
      ]
     },
     "metadata": {},
     "output_type": "display_data"
    },
    {
     "name": "stdout",
     "output_type": "stream",
     "text": [
      "---Valores Teoricos ---\n",
      "Media: 36.67 Variancia: 0.55\n"
     ]
    }
   ],
   "source": [
    "t, g, k = 8, 6, 4 \n",
    "p = g/t\n",
    "#Monte Carlo\n",
    "pmf_vet_p = []\n",
    "for i in range(10000):\n",
    "    pmf_vet_p.append(exp_2b(t,g,k))\n",
    "    \n",
    "plt.hist(pmf_vet_p) \n",
    "plt.title('Monte Carlo')\n",
    "plt.show()\n",
    "print(\"---Valores Praticos ---\")\n",
    "print(\"Media: {} Variancia: {}\".format(np.mean(pmf_vet_p),np.var(pmf_vet_p)))\n",
    "#Teorica\n",
    "#outcomes_t = []\n",
    "#for i in range(1,k+1):\n",
    "#    outcomes_t.append(pmf_2a(t,i,p))\n",
    "    \n",
    "#plt.bar(range(1,k+1),outcomes_t) \n",
    "#plt.title('Teorica')\n",
    "#plt.show()\n",
    "y=nbinom.pmf(range(1,k),k,p)\n",
    "plt.bar(range(1,k),y) \n",
    "plt.title('Teorica')\n",
    "plt.show()\n",
    "media_t = round(media_2b(t,g,k),2)\n",
    "vari = round(var_2b(t,g,k),2)\n",
    "print(\"---Valores Teoricos ---\")\n",
    "print(\"Media: {} Variancia: {}\".format(media_t,vari))"
   ]
  },
  {
   "cell_type": "code",
   "execution_count": 130,
   "metadata": {},
   "outputs": [
    {
     "data": {
      "image/png": "[encoded data removed]",
      "text/plain": [
       "<matplotlib.figure.Figure at 0x7f63b7c38080>"
      ]
     },
     "metadata": {},
     "output_type": "display_data"
    },
    {
     "name": "stdout",
     "output_type": "stream",
     "text": [
      "---Valores Praticos ---\n",
      "Media: 4.1492 Variancia: 15.255939360000001\n"
     ]
    },
    {
     "ename": "ZeroDivisionError",
     "evalue": "float division by zero",
     "output_type": "error",
     "traceback": [
      "\u001b[0;31m---------------------------------------------------------------------------\u001b[0m",
      "\u001b[0;31mZeroDivisionError\u001b[0m                         Traceback (most recent call last)",
      "\u001b[0;32m<ipython-input-130-218a3f91036d>\u001b[0m in \u001b[0;36m<module>\u001b[0;34m()\u001b[0m\n\u001b[1;32m     14\u001b[0m \u001b[0moutcomes_t\u001b[0m \u001b[0;34m=\u001b[0m \u001b[0;34m[\u001b[0m\u001b[0;34m]\u001b[0m\u001b[0;34m\u001b[0m\u001b[0m\n\u001b[1;32m     15\u001b[0m \u001b[0;32mfor\u001b[0m \u001b[0mi\u001b[0m \u001b[0;32min\u001b[0m \u001b[0mrange\u001b[0m\u001b[0;34m(\u001b[0m\u001b[0;36m1\u001b[0m\u001b[0;34m,\u001b[0m\u001b[0mk\u001b[0m\u001b[0;34m+\u001b[0m\u001b[0;36m1\u001b[0m\u001b[0;34m)\u001b[0m\u001b[0;34m:\u001b[0m\u001b[0;34m\u001b[0m\u001b[0m\n\u001b[0;32m---> 16\u001b[0;31m     \u001b[0moutcomes_t\u001b[0m\u001b[0;34m.\u001b[0m\u001b[0mappend\u001b[0m\u001b[0;34m(\u001b[0m\u001b[0mpmf_2b\u001b[0m\u001b[0;34m(\u001b[0m\u001b[0mt\u001b[0m\u001b[0;34m,\u001b[0m\u001b[0mg\u001b[0m\u001b[0;34m,\u001b[0m\u001b[0mn\u001b[0m\u001b[0;34m,\u001b[0m\u001b[0mk\u001b[0m\u001b[0;34m)\u001b[0m\u001b[0;34m)\u001b[0m\u001b[0;34m\u001b[0m\u001b[0m\n\u001b[0m\u001b[1;32m     17\u001b[0m \u001b[0;34m\u001b[0m\u001b[0m\n\u001b[1;32m     18\u001b[0m \u001b[0mplt\u001b[0m\u001b[0;34m.\u001b[0m\u001b[0mbar\u001b[0m\u001b[0;34m(\u001b[0m\u001b[0mrange\u001b[0m\u001b[0;34m(\u001b[0m\u001b[0;36m1\u001b[0m\u001b[0;34m,\u001b[0m\u001b[0mk\u001b[0m\u001b[0;34m+\u001b[0m\u001b[0;36m1\u001b[0m\u001b[0;34m)\u001b[0m\u001b[0;34m,\u001b[0m\u001b[0moutcomes_t\u001b[0m\u001b[0;34m)\u001b[0m\u001b[0;34m\u001b[0m\u001b[0m\n",
      "\u001b[0;32m<ipython-input-118-56956c1fc5c0>\u001b[0m in \u001b[0;36mpmf_2b\u001b[0;34m(t, g, n, k)\u001b[0m\n\u001b[1;32m      4\u001b[0m \u001b[0;34m\u001b[0m\u001b[0m\n\u001b[1;32m      5\u001b[0m \u001b[0;32mdef\u001b[0m \u001b[0mpmf_2b\u001b[0m\u001b[0;34m(\u001b[0m\u001b[0mt\u001b[0m\u001b[0;34m,\u001b[0m\u001b[0mg\u001b[0m\u001b[0;34m,\u001b[0m\u001b[0mn\u001b[0m\u001b[0;34m,\u001b[0m\u001b[0mk\u001b[0m\u001b[0;34m)\u001b[0m\u001b[0;34m:\u001b[0m\u001b[0;34m\u001b[0m\u001b[0m\n\u001b[0;32m----> 6\u001b[0;31m     \u001b[0;32mreturn\u001b[0m \u001b[0;34m(\u001b[0m\u001b[0mcoef_binon\u001b[0m\u001b[0;34m(\u001b[0m\u001b[0mg\u001b[0m\u001b[0;34m,\u001b[0m\u001b[0mk\u001b[0m\u001b[0;34m-\u001b[0m\u001b[0;36m1\u001b[0m\u001b[0;34m)\u001b[0m\u001b[0;34m/\u001b[0m\u001b[0mcoef_binon\u001b[0m\u001b[0;34m(\u001b[0m\u001b[0mt\u001b[0m\u001b[0;34m,\u001b[0m\u001b[0mn\u001b[0m\u001b[0;34m-\u001b[0m\u001b[0;36m1\u001b[0m\u001b[0;34m)\u001b[0m\u001b[0;34m)\u001b[0m\u001b[0;34m*\u001b[0m\u001b[0;34m(\u001b[0m\u001b[0;34m(\u001b[0m\u001b[0mg\u001b[0m\u001b[0;34m-\u001b[0m\u001b[0mk\u001b[0m\u001b[0;34m+\u001b[0m\u001b[0;36m1\u001b[0m\u001b[0;34m)\u001b[0m\u001b[0;34m/\u001b[0m\u001b[0;34m(\u001b[0m\u001b[0mt\u001b[0m\u001b[0;34m-\u001b[0m\u001b[0mn\u001b[0m\u001b[0;34m+\u001b[0m\u001b[0;36m1\u001b[0m\u001b[0;34m)\u001b[0m\u001b[0;34m)\u001b[0m\u001b[0;34m*\u001b[0m\u001b[0mcoef_binon\u001b[0m\u001b[0;34m(\u001b[0m\u001b[0mt\u001b[0m\u001b[0;34m-\u001b[0m\u001b[0mn\u001b[0m\u001b[0;34m,\u001b[0m\u001b[0mn\u001b[0m\u001b[0;34m-\u001b[0m\u001b[0mk\u001b[0m\u001b[0;34m)\u001b[0m\u001b[0;34m\u001b[0m\u001b[0m\n\u001b[0m\u001b[1;32m      7\u001b[0m \u001b[0;34m\u001b[0m\u001b[0m\n\u001b[1;32m      8\u001b[0m \u001b[0;32mdef\u001b[0m \u001b[0mmedia_2a\u001b[0m\u001b[0;34m(\u001b[0m\u001b[0mp\u001b[0m\u001b[0;34m,\u001b[0m\u001b[0mk\u001b[0m\u001b[0;34m)\u001b[0m\u001b[0;34m:\u001b[0m\u001b[0;34m\u001b[0m\u001b[0m\n",
      "\u001b[0;31mZeroDivisionError\u001b[0m: float division by zero"
     ]
    }
   ],
   "source": [
    "t, g, k = 100, 20, 20 \n",
    "p = g/t\n",
    "#Monte Carlo\n",
    "pmf_vet_p = []\n",
    "for i in range(10000):\n",
    "    pmf_vet_p.append(exp_2b(t,g,k))\n",
    "    \n",
    "plt.hist(pmf_vet_p) \n",
    "plt.title('Monte Carlo')\n",
    "plt.show()\n",
    "print(\"---Valores Praticos ---\")\n",
    "print(\"Media: {} Variancia: {}\".format(np.mean(pmf_vet_p),np.var(pmf_vet_p)))\n",
    "#Teorica\n",
    "outcomes_t = []\n",
    "for i in range(1,k+1):\n",
    "    outcomes_t.append(pmf_2b(t,g,n,k))\n",
    "    \n",
    "plt.bar(range(1,k+1),outcomes_t) \n",
    "plt.title('Teorica')\n",
    "plt.show()\n"
   ]
  },
  {
   "cell_type": "code",
   "execution_count": null,
   "metadata": {
    "collapsed": true
   },
   "outputs": [],
   "source": []
  }
 ],
 "metadata": {
  "kernelspec": {
   "display_name": "Python 3",
   "language": "python",
   "name": "python3"
  },
  "language_info": {
   "codemirror_mode": {
    "name": "ipython",
    "version": 3
   },
   "file_extension": ".py",
   "mimetype": "text/x-python",
   "name": "python",
   "nbconvert_exporter": "python",
   "pygments_lexer": "ipython3",
   "version": "3.6.1"
  }
 },
 "nbformat": 4,
 "nbformat_minor": 2
}
