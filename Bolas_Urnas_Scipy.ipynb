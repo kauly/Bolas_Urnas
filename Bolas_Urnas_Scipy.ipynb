{
 "cells": [
  {
   "cell_type": "code",
   "execution_count": 1,
   "metadata": {
    "collapsed": true
   },
   "outputs": [],
   "source": [
    "import numpy as np\n",
    "from scipy.stats import nbinom , binom, hypergeom\n",
    "from scipy import special\n",
    "import matplotlib.pyplot as plt\n"
   ]
  },
  {
   "cell_type": "markdown",
   "metadata": {},
   "source": [
    "1 - Escreva uma função que implementa uma única realização da variável aleatória K do Experimento 1a, para (t, g, n) genéricos. Em seguida, utilize as funções escritas com (t, g, n) = (8, 4, 6) e com (t, g, n) = (100, 20, 95).  \n",
    "* Plote figuras contendo a função massa de probabilidade teórica, bem como aquela obtida via simulação de Monte Carlo.\n",
    "* Calcule os valores teóricos da média e da variância, bem como aqueles obtidos via simulação."
   ]
  },
  {
   "cell_type": "markdown",
   "metadata": {},
   "source": [
    "### Para (t, g, n) = (8, 4, 6)"
   ]
  },
  {
   "cell_type": "code",
   "execution_count": 200,
   "metadata": {},
   "outputs": [
    {
     "data": {
      "image/png": "[encoded data removed]",
      "text/plain": [
       "<matplotlib.figure.Figure at 0x7f0c445e4710>"
      ]
     },
     "metadata": {},
     "output_type": "display_data"
    },
    {
     "name": "stdout",
     "output_type": "stream",
     "text": [
      "---Valores Praticos ---\n",
      "Media: 3.000249 Variancia: 1.5016289379990002\n",
      "---Valores Teoricos ---\n",
      "Media: 3.0 Variancia: 1.5\n"
     ]
    }
   ],
   "source": [
    "t, g, n = 8, 4, 6\n",
    "\n",
    "#Pratico\n",
    "p = g/t\n",
    "R = binom.rvs(n, p, size=1000000)\n",
    "plt.hist(R,bins=np.arange(0, n+2)-0.5,normed='True')\n",
    "#Teorico\n",
    "rv = binom(n,p)\n",
    "x = np.arange(0, n+1)\n",
    "y = rv.pmf(x)\n",
    "plt.stem(x,y,'r')\n",
    "plt.title(\"Plot\")\n",
    "plt.xlabel(\"k\")\n",
    "plt.ylabel(\"Probabilidade\")\n",
    "plt.show()\n",
    "print(\"---Valores Praticos ---\")\n",
    "print(\"Media: {} Variancia: {}\".format(np.mean(R),np.var(R)))\n",
    "print(\"---Valores Teoricos ---\")\n",
    "print(\"Media: {} Variancia: {}\".format(binom.mean(n,p),binom.var(n,p)))"
   ]
  },
  {
   "cell_type": "markdown",
   "metadata": {},
   "source": [
    "### Para (t, g, n) = (100, 20, 95)"
   ]
  },
  {
   "cell_type": "code",
   "execution_count": 201,
   "metadata": {},
   "outputs": [
    {
     "data": {
      "image/png": "[encoded data removed]",
      "text/plain": [
       "<matplotlib.figure.Figure at 0x7f0c44700438>"
      ]
     },
     "metadata": {},
     "output_type": "display_data"
    },
    {
     "name": "stdout",
     "output_type": "stream",
     "text": [
      "---Valores Praticos ---\n",
      "Media: 19.006113 Variancia: 15.205253631231\n",
      "---Valores Teoricos ---\n",
      "Media: 19.0 Variancia: 15.200000000000001\n"
     ]
    }
   ],
   "source": [
    "t, g, n = 100, 20, 95\n",
    "\n",
    "#Pratico\n",
    "p = g/t\n",
    "R = binom.rvs(n, p, size=1000000)\n",
    "plt.hist(R,bins=np.arange(0, n+2)-0.5,normed='True')\n",
    "#Teorico\n",
    "rv = binom(n,p)\n",
    "x = np.arange(0, n+1)\n",
    "y = rv.pmf(x)\n",
    "plt.stem(x,y,'r')\n",
    "plt.title(\"Plot\")\n",
    "plt.xlabel(\"k\")\n",
    "plt.ylabel(\"Probabilidade\")\n",
    "plt.show()\n",
    "print(\"---Valores Praticos ---\")\n",
    "print(\"Media: {} Variancia: {}\".format(np.mean(R),np.var(R)))\n",
    "print(\"---Valores Teoricos ---\")\n",
    "print(\"Media: {} Variancia: {}\".format(binom.mean(n,p),binom.var(n,p)))"
   ]
  },
  {
   "cell_type": "markdown",
   "metadata": {},
   "source": [
    "## 2 Repita o exercício anterior, agora considerando o Experimento 1b.  "
   ]
  },
  {
   "cell_type": "markdown",
   "metadata": {},
   "source": [
    "### Para (t, g, n) = (8, 4, 6)"
   ]
  },
  {
   "cell_type": "code",
   "execution_count": 202,
   "metadata": {},
   "outputs": [
    {
     "data": {
      "image/png": "[encoded data removed]",
      "text/plain": [
       "<matplotlib.figure.Figure at 0x7f0c703c3828>"
      ]
     },
     "metadata": {},
     "output_type": "display_data"
    },
    {
     "name": "stdout",
     "output_type": "stream",
     "text": [
      "---Valores Praticos ---\n",
      "Media: 3.000636 Variancia: 0.4283395955039999\n",
      "---Valores Teoricos ---\n",
      "Media: 3.0 Variancia: 0.42857142857142855\n"
     ]
    }
   ],
   "source": [
    "\n",
    "#pmf_1b(g,r,t,n,k)\n",
    "\n",
    "#Pratico\n",
    "t,g,k = 8,4,6\n",
    "M = t\n",
    "n = g\n",
    "N = k\n",
    "R = hypergeom.rvs(M, n, N, size=1000000)\n",
    "plt.hist(R,bins=np.arange(0, n+2)-0.5,normed='True')\n",
    "\n",
    "\n",
    "#Teorico\n",
    "rv = hypergeom(M, n, N)\n",
    "x = np.arange(0, n+1)\n",
    "y = rv.pmf(x)\n",
    "plt.stem(x,y,'r')\n",
    "plt.title(\"Plot\")\n",
    "plt.xlabel(\"k\")\n",
    "plt.ylabel(\"Probabilidade\")\n",
    "plt.show()\n",
    "print(\"---Valores Praticos ---\")\n",
    "print(\"Media: {} Variancia: {}\".format(np.mean(R),np.var(R)))\n",
    "print(\"---Valores Teoricos ---\")\n",
    "print(\"Media: {} Variancia: {}\".format(hypergeom.mean(M,n,N),hypergeom.var(M,n,N)))"
   ]
  },
  {
   "cell_type": "markdown",
   "metadata": {},
   "source": [
    "### Para (t, g, n) = (100, 20, 95)"
   ]
  },
  {
   "cell_type": "code",
   "execution_count": 203,
   "metadata": {},
   "outputs": [
    {
     "data": {
      "image/png": "[encoded data removed]",
      "text/plain": [
       "<matplotlib.figure.Figure at 0x7f0c442bc278>"
      ]
     },
     "metadata": {},
     "output_type": "display_data"
    },
    {
     "name": "stdout",
     "output_type": "stream",
     "text": [
      "---Valores Praticos ---\n",
      "Media: 19.00106 Variancia: 0.7668448764000003\n",
      "---Valores Teoricos ---\n",
      "Media: 19.0 Variancia: 0.7676767676767676\n"
     ]
    }
   ],
   "source": [
    "#Pratico\n",
    "t, g, k = 100, 20, 95\n",
    "M = t\n",
    "n = g\n",
    "N = k\n",
    "R = hypergeom.rvs(M, n, N, size=1000000)\n",
    "plt.hist(R,bins=np.arange(0, n+2)-0.5,normed='True')\n",
    "#Teorico\n",
    "rv = hypergeom(M, n, N)\n",
    "x = np.arange(0, n+1)\n",
    "y = rv.pmf(x)\n",
    "plt.stem(x,y,'r')\n",
    "plt.title(\"Plot\")\n",
    "plt.xlabel(\"k\")\n",
    "plt.ylabel(\"Probabilidade\")\n",
    "plt.show()\n",
    "print(\"---Valores Praticos ---\")\n",
    "print(\"Media: {} Variancia: {}\".format(np.mean(R),np.var(R)))\n",
    "print(\"---Valores Teoricos ---\")\n",
    "print(\"Media: {} Variancia: {}\".format(hypergeom.mean(M,n,N),hypergeom.var(M,n,N)))"
   ]
  },
  {
   "cell_type": "markdown",
   "metadata": {},
   "source": [
    "## Formulas da segunda parte:\n"
   ]
  },
  {
   "cell_type": "code",
   "execution_count": 7,
   "metadata": {
    "collapsed": true
   },
   "outputs": [],
   "source": [
    "def pmf_2a(n,k,p):\n",
    "    q = 1-p\n",
    "    return special.binom(n-1,k-1)*(p**k)*((1-p)**(n-k))\n",
    "\n",
    "def pmf_2b(t,g,n,k):\n",
    "    return (special.binom(g,k-1)/special.binom(t,n-1))*((g-k+1)/(t-n+1))*special.binom(t-g,n-k)\n",
    "\n",
    "def media_2b(t,g,k):\n",
    "    return round(k*((t+1)/(g+1)),3)\n",
    "\n",
    "def var_2b(t,g,k):\n",
    "    return round(k*(((t-g)*(t+1)*(g+1-k))/(((g+1)**2)*(g+2))),3)\n",
    "\n",
    "def exp_2b(t,g,k):\n",
    "     s = total =0\n",
    "     p = 0   \n",
    "     for i in range(t): \n",
    "            a = np.random.uniform(0,1)\n",
    "            p = g/t\n",
    "            total += 1 \n",
    "            if a <= p:\n",
    "                s += 1\n",
    "                g -= 1\n",
    "            if s == k:\n",
    "                break \n",
    "            t -= 1\n",
    "                  \n",
    "     return total"
   ]
  },
  {
   "cell_type": "markdown",
   "metadata": {},
   "source": [
    "* Experimento 2a. Retira-se, uma por uma, bolas da urna, com reposição. O experi-\n",
    "mento se encerra imediatamente após a k-ésima bola verde ser retirada.\n",
    "* Experimento 2b. Retira-se, uma por uma, bolas da urna, sem reposição. O experi-\n",
    "mento se encerra imediatamente após a k-ésima bola verde ser retirada.\n",
    "\n",
    "\n",
    "N = número total de bolas retiradas no experimento.\n",
    "\n",
    "3 - Escreva uma função que implementa uma única realização da variável aleatória N do\n",
    "Experimento 2a, para (t, g, k) genéricos. Em seguida, utilize as funções escritas com\n",
    "(t, g, k) = (8, 6, 4) e com (t, g, k) = (100, 20, 20).\n",
    "\n",
    "* Plote figuras contendo a função massa de probabilidade teórica, bem como aquela\n",
    "obtida via simulação de Monte Carlo.\n",
    "* Calcule os valores teóricos da média e da variância, bem como aqueles obtidos via\n",
    "simulação."
   ]
  },
  {
   "cell_type": "markdown",
   "metadata": {},
   "source": [
    "### Para (t, g, k) = (8, 6, 4) "
   ]
  },
  {
   "cell_type": "code",
   "execution_count": 3,
   "metadata": {},
   "outputs": [
    {
     "data": {
      "image/png": "[encoded data removed]",
      "text/plain": [
       "<matplotlib.figure.Figure at 0x7f4d024ceb70>"
      ]
     },
     "metadata": {},
     "output_type": "display_data"
    },
    {
     "name": "stdout",
     "output_type": "stream",
     "text": [
      "---Valores Praticos ---\n",
      "Media: 5.332853 Variancia: 1.7802038803909992\n",
      "---Valores Teoricos ---\n",
      "Media: 1.333333333333333 Variancia: 1.7777777777777772\n"
     ]
    }
   ],
   "source": [
    "t, g, k = 8, 6, 4 \n",
    "p = g/t\n",
    "\n",
    "#Pratico\n",
    "r = nbinom.rvs(k, p, size=1000000,loc=4)\n",
    "plt.hist(r,bins=np.arange(0, 20)-0.5,normed='True')\n",
    "#Teorica\n",
    "y=nbinom.pmf(np.arange(0,20),k,p,loc=4)\n",
    "plt.stem(np.arange(0, 20),y,'r') \n",
    "plt.title(\"Plot\")\n",
    "plt.xlabel(\"n\")\n",
    "plt.ylabel(\"Probabilidade\")\n",
    "plt.show()\n",
    "media_t = nbinom.mean(k,p)\n",
    "vari = nbinom.var(k,p)\n",
    "print(\"---Valores Praticos ---\")\n",
    "print(\"Media: {} Variancia: {}\".format(np.mean(r),np.var(r)))\n",
    "print(\"---Valores Teoricos ---\")\n",
    "print(\"Media: {} Variancia: {}\".format(media_t,vari))\n"
   ]
  },
  {
   "cell_type": "markdown",
   "metadata": {},
   "source": [
    "### Para (t, g, k) = (100, 20, 20)"
   ]
  },
  {
   "cell_type": "code",
   "execution_count": 4,
   "metadata": {},
   "outputs": [
    {
     "data": {
      "image/png": "[encoded data removed]",
      "text/plain": [
       "<matplotlib.figure.Figure at 0x7f4d2d44d4a8>"
      ]
     },
     "metadata": {},
     "output_type": "display_data"
    },
    {
     "name": "stdout",
     "output_type": "stream",
     "text": [
      "---Valores Praticos ---\n",
      "Media: 100.012635 Variancia: 400.14398735677514\n",
      "---Valores Teoricos ---\n",
      "Media: 80.0 Variancia: 400.0\n"
     ]
    }
   ],
   "source": [
    "t, g, k = 100, 20, 20\n",
    "p = g/t\n",
    "#Pratico\n",
    "r = nbinom.rvs(k, p, size=1000000,loc=20)\n",
    "plt.hist(r,bins=np.arange(0, 200)-0.5,normed='True')\n",
    "#Teorica\n",
    "y=nbinom.pmf(np.arange(0, 200),k,p,loc=20)\n",
    "plt.stem(np.arange(0, 200),y,'r') \n",
    "plt.title(\"Plot\")\n",
    "plt.xlabel(\"n\")\n",
    "plt.ylabel(\"Probabilidade\")\n",
    "plt.show()\n",
    "media_t = nbinom.mean(k,p)\n",
    "vari = nbinom.var(k,p)\n",
    "print(\"---Valores Praticos ---\")\n",
    "print(\"Media: {} Variancia: {}\".format(np.mean(r),np.var(r)))\n",
    "print(\"---Valores Teoricos ---\")\n",
    "print(\"Media: {} Variancia: {}\".format(media_t,vari))"
   ]
  },
  {
   "cell_type": "markdown",
   "metadata": {},
   "source": [
    " ### Repita o exercício anterior, agora considerando o Experimento 2b."
   ]
  },
  {
   "cell_type": "markdown",
   "metadata": {},
   "source": [
    "### Para (t, g, k) = (8, 6, 4) "
   ]
  },
  {
   "cell_type": "code",
   "execution_count": 8,
   "metadata": {},
   "outputs": [
    {
     "data": {
      "image/png": "[encoded data removed]",
      "text/plain": [
       "<matplotlib.figure.Figure at 0x7f4d023a6b00>"
      ]
     },
     "metadata": {},
     "output_type": "display_data"
    },
    {
     "name": "stdout",
     "output_type": "stream",
     "text": [
      "Valores Praticos:\n",
      "Media: 5.14505 Variancia: 0.5483304975\n",
      "Valores Teoricos:\n",
      "Media: 5.143 Variancia: 0.551\n"
     ]
    }
   ],
   "source": [
    "#Pratica\n",
    "t, g, k = 8, 6, 4\n",
    "r = []\n",
    "for i in range(100000):\n",
    "    r.append(exp_2b(t,g,k))\n",
    "plt.hist(r,bins=np.arange(1,10)-0.5,normed='True')  \n",
    "#Teorica\n",
    "R = []\n",
    "for i in range(1,t+1):\n",
    "    R.append(pmf_2b(t,g,i,k))\n",
    "  \n",
    "plt.stem(range(1,t+1),R,'r') \n",
    "plt.title(\"Plot\")\n",
    "plt.xlabel(\"n\")\n",
    "plt.ylabel(\"Probabilidade\")\n",
    "plt.show()\n",
    "print(\"Valores Praticos:\")\n",
    "print(\"Media: {} Variancia: {}\".format(np.mean(r),np.var(r)))\n",
    "print(\"Valores Teoricos:\")\n",
    "print(\"Media: {} Variancia: {}\".format(media_2b(t,g,k),var_2b(t,g,k)))"
   ]
  },
  {
   "cell_type": "markdown",
   "metadata": {},
   "source": [
    "### Para (t, g, k) = (100, 20, 20)"
   ]
  },
  {
   "cell_type": "code",
   "execution_count": 9,
   "metadata": {},
   "outputs": [
    {
     "data": {
      "image/png": "[encoded data removed]",
      "text/plain": [
       "<matplotlib.figure.Figure at 0x7f4d01f93da0>"
      ]
     },
     "metadata": {},
     "output_type": "display_data"
    },
    {
     "name": "stdout",
     "output_type": "stream",
     "text": [
      "Valores Praticos:\n",
      "Media: 96.19363 Variancia: 16.574497423100002\n",
      "Valores Teoricos:\n",
      "Media: 96.19 Variancia: 16.656\n"
     ]
    }
   ],
   "source": [
    "#Pratica\n",
    "t, g, k = 100, 20, 20\n",
    "r = []\n",
    "for i in range(100000):\n",
    "    r.append(exp_2b(t,g,k))\n",
    "plt.hist(r,bins=np.arange(0,102)-0.5,normed='True')  \n",
    "#Teorica\n",
    "R = []\n",
    "for i in range(1,t+1):\n",
    "    R.append(pmf_2b(t,g,i,k))\n",
    "plt.stem(range(1,t+1),R,'r') \n",
    "plt.title(\"Plot\")\n",
    "plt.xlabel(\"n\")\n",
    "plt.ylabel(\"Probabilidade\")\n",
    "plt.show()\n",
    "print(\"Valores Praticos:\")\n",
    "print(\"Media: {} Variancia: {}\".format(np.mean(r),np.var(r)))\n",
    "print(\"Valores Teoricos:\")\n",
    "print(\"Media: {} Variancia: {}\".format(media_2b(t,g,k),var_2b(t,g,k)))\n",
    "\n"
   ]
  },
  {
   "cell_type": "code",
   "execution_count": null,
   "metadata": {
    "collapsed": true
   },
   "outputs": [],
   "source": []
  }
 ],
 "metadata": {
  "kernelspec": {
   "display_name": "Python 3",
   "language": "python",
   "name": "python3"
  },
  "language_info": {
   "codemirror_mode": {
    "name": "ipython",
    "version": 3
   },
   "file_extension": ".py",
   "mimetype": "text/x-python",
   "name": "python",
   "nbconvert_exporter": "python",
   "pygments_lexer": "ipython3",
   "version": "3.6.1"
  }
 },
 "nbformat": 4,
 "nbformat_minor": 2
}
